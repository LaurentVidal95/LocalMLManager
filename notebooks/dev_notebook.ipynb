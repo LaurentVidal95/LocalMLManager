{
 "cells": [
  {
   "cell_type": "markdown",
   "id": "ba227546-d89a-493b-969b-250b6e6423cc",
   "metadata": {},
   "source": [
    "## Import config"
   ]
  },
  {
   "cell_type": "code",
   "execution_count": 1,
   "id": "871f5236-8d92-4555-ac0d-fd3e79dbef80",
   "metadata": {},
   "outputs": [],
   "source": [
    "%load_ext autoreload\n",
    "%autoreload 2"
   ]
  },
  {
   "cell_type": "code",
   "execution_count": 2,
   "id": "b6b2ab9a-e5ba-498d-b9a7-4da50566f92a",
   "metadata": {},
   "outputs": [],
   "source": [
    "import expman\n",
    "from omegaconf import OmegaConf\n",
    "from pathlib import Path"
   ]
  },
  {
   "cell_type": "code",
   "execution_count": 10,
   "id": "396125a7-d00f-4e5e-a946-468d0924def1",
   "metadata": {},
   "outputs": [],
   "source": [
    "PROJECT_ROOT = Path(\"./\").resolve().parents[0]\n",
    "exp_root = Path(PROJECT_ROOT / \"experiments\")\n",
    "input_dir = Path(PROJECT_ROOT / \"dummy_exp\")\n",
    "conf_file = Path(PROJECT_ROOT / \"dummy_exp/.hydra/config.yaml\")\n",
    "cfg = OmegaConf.load(conf_file)"
   ]
  },
  {
   "cell_type": "markdown",
   "id": "e1cc1d4e-713e-42a6-b1ab-9b98bc394645",
   "metadata": {},
   "source": [
    "## TESTS"
   ]
  },
  {
   "cell_type": "code",
   "execution_count": 9,
   "id": "19996bf7-fcf0-41f3-8594-6cea62e0985d",
   "metadata": {},
   "outputs": [],
   "source": [
    "from expman.core import create_id_card, create_experiment"
   ]
  },
  {
   "cell_type": "code",
   "execution_count": 5,
   "id": "9582fa0a-8cd7-4938-a8ef-e06a0d32f4c5",
   "metadata": {},
   "outputs": [],
   "source": [
    "import expman.utils as CFU"
   ]
  },
  {
   "cell_type": "code",
   "execution_count": 7,
   "id": "479e5222-3273-4fc6-b5be-af069241b3d7",
   "metadata": {},
   "outputs": [],
   "source": [
    "EP = exp_core.ExperimentProfile.from_profile_file(Path(PROJECT_ROOT / \"gasp_diff.profile\"))"
   ]
  },
  {
   "cell_type": "code",
   "execution_count": 22,
   "id": "4eb78500-64c0-44be-bd57-e0ddbc89c3dc",
   "metadata": {},
   "outputs": [],
   "source": [
    "foo = create_experiment(EP, cfg, exp_root, input_dir)"
   ]
  },
  {
   "cell_type": "code",
   "execution_count": 23,
   "id": "b45dd38a-6afa-47e6-a43e-1eaa3797783b",
   "metadata": {},
   "outputs": [
    {
     "data": {
      "text/plain": [
       "{'id': 'exp_371aa194',\n",
       " 'created_at': '2025-10-02T16:42:40.954362',\n",
       " 'description': 'Trainings of GASP [REF] using the discrete graph diffusion method.\\n',\n",
       " 'config_summary': {'data.name': 'qm9',\n",
       "  'data.batch_size': 1024,\n",
       "  'lightning_module.module.loss_functions': {'train': {'_target_': 'gasp_diff.module.metrics.losses.GraphCrossEntropyLoss',\n",
       "    'edge_penalisation': 5.0,\n",
       "    'global_features_penalisation': 0.0},\n",
       "   'validation': {'_target_': 'gasp_diff.module.metrics.losses.GraphVLBLoss',\n",
       "    'edge_penalisation': 1.0,\n",
       "    'global_features_penalisation': 0.0}}},\n",
       " 'meta': {'user': 'laurentvidal',\n",
       "  'host': 'MacBook-Pro-de-Laurent.local',\n",
       "  'python': '3.12.9',\n",
       "  'commit': '1a56ab68a5c3887042dfdc8490bc34e5176524a6',\n",
       "  'branch': 'main',\n",
       "  'remote': 'git@github.com:LaurentVidal95/GASP-DIFF.git'},\n",
       " 'files': {'checkpoints': '/Users/laurentvidal/Programs/deep_learning/expman/experiments/exp_371aa194/checkpoints',\n",
       "  'logs': '/Users/laurentvidal/Programs/deep_learning/expman/experiments/exp_371aa194/wandb',\n",
       "  'config': '/Users/laurentvidal/Programs/deep_learning/expman/experiments/exp_371aa194/.hydra/config.yaml'}}"
      ]
     },
     "execution_count": 23,
     "metadata": {},
     "output_type": "execute_result"
    }
   ],
   "source": [
    "foo"
   ]
  },
  {
   "cell_type": "code",
   "execution_count": 11,
   "id": "d5bd47cd-8a0f-4c56-b9e9-a83feacc1a9a",
   "metadata": {},
   "outputs": [
    {
     "data": {
      "text/plain": [
       "'exp_72efe1ec'"
      ]
     },
     "execution_count": 11,
     "metadata": {},
     "output_type": "execute_result"
    }
   ],
   "source": [
    "EP.generate_exp_name(exp_root, CFU.config_summary(cfg))"
   ]
  },
  {
   "cell_type": "code",
   "execution_count": 12,
   "id": "3c188c76-3bf6-48a5-a2f9-9d255a7d4466",
   "metadata": {},
   "outputs": [],
   "source": [
    "from expman.core import create_id_card"
   ]
  },
  {
   "cell_type": "code",
   "execution_count": 13,
   "id": "fcf2d255-270e-49b1-b8a5-9a994d532baa",
   "metadata": {},
   "outputs": [],
   "source": [
    "foo = create_id_card(profile=EP,\n",
    "                     config=cfg,\n",
    "                     exp_dir=Path(exp_root / \"exp_3ced88d3\"))"
   ]
  },
  {
   "cell_type": "code",
   "execution_count": 23,
   "id": "835ed9ba-ed59-4589-9412-ea55a383724a",
   "metadata": {},
   "outputs": [],
   "source": [
    "import expman.navigation as nav"
   ]
  },
  {
   "cell_type": "code",
   "execution_count": null,
   "id": "e3dcc20e-4d5b-4f3b-b482-7ac68b180c53",
   "metadata": {},
   "outputs": [],
   "source": []
  }
 ],
 "metadata": {
  "kernelspec": {
   "display_name": "Python 3 (ipykernel)",
   "language": "python",
   "name": "python3"
  },
  "language_info": {
   "codemirror_mode": {
    "name": "ipython",
    "version": 3
   },
   "file_extension": ".py",
   "mimetype": "text/x-python",
   "name": "python",
   "nbconvert_exporter": "python",
   "pygments_lexer": "ipython3",
   "version": "3.12.9"
  }
 },
 "nbformat": 4,
 "nbformat_minor": 5
}
