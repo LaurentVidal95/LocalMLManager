{
 "cells": [
  {
   "cell_type": "code",
   "execution_count": 1,
   "id": "871f5236-8d92-4555-ac0d-fd3e79dbef80",
   "metadata": {},
   "outputs": [],
   "source": [
    "%load_ext autoreload\n",
    "%autoreload 2"
   ]
  },
  {
   "cell_type": "code",
   "execution_count": 2,
   "id": "b6b2ab9a-e5ba-498d-b9a7-4da50566f92a",
   "metadata": {},
   "outputs": [],
   "source": [
    "import expman"
   ]
  },
  {
   "cell_type": "code",
   "execution_count": 3,
   "id": "3e1552ab-6e6d-4703-b963-8049263b3107",
   "metadata": {},
   "outputs": [],
   "source": [
    "from omegaconf import OmegaConf"
   ]
  },
  {
   "cell_type": "markdown",
   "id": "c82b0430-9718-480e-9a21-ed73135221d6",
   "metadata": {},
   "source": [
    "## Import config"
   ]
  },
  {
   "cell_type": "code",
   "execution_count": 21,
   "id": "396125a7-d00f-4e5e-a946-468d0924def1",
   "metadata": {},
   "outputs": [],
   "source": [
    "from pathlib import Path\n",
    "\n",
    "PROJECT_ROOT = Path(\"./\").resolve().parents[0]\n",
    "exp_dir = Path(PROJECT_ROOT / \"dummy_exp\")\n",
    "conf_file = Path(PROJECT_ROOT / \"dummy_exp/.hydra/config.yaml\")\n",
    "cfg = OmegaConf.load(conf_file)"
   ]
  },
  {
   "cell_type": "code",
   "execution_count": 10,
   "id": "19996bf7-fcf0-41f3-8594-6cea62e0985d",
   "metadata": {},
   "outputs": [],
   "source": [
    "import expman.experiment_profile as ep"
   ]
  },
  {
   "cell_type": "code",
   "execution_count": 57,
   "id": "9582fa0a-8cd7-4938-a8ef-e06a0d32f4c5",
   "metadata": {},
   "outputs": [],
   "source": [
    "import expman.cfg_utils as CFU"
   ]
  },
  {
   "cell_type": "code",
   "execution_count": 58,
   "id": "a087a7de-e078-40fb-b67a-3f11fcce66c4",
   "metadata": {},
   "outputs": [],
   "source": [
    "plain_dict = CFU.to_plain_dict(cfg)"
   ]
  },
  {
   "cell_type": "code",
   "execution_count": 41,
   "id": "479e5222-3273-4fc6-b5be-af069241b3d7",
   "metadata": {},
   "outputs": [],
   "source": [
    "EP = ep.ExperimentProfile.from_profile_file(Path(PROJECT_ROOT / \"expman/gasp_diff.yaml\"))"
   ]
  },
  {
   "cell_type": "code",
   "execution_count": 45,
   "id": "0ffb5cda-6231-474f-896c-ed3f055578ff",
   "metadata": {},
   "outputs": [
    {
     "data": {
      "text/plain": [
       "{'data.name': 'qm9', 'data.batch_size': 1024}"
      ]
     },
     "execution_count": 45,
     "metadata": {},
     "output_type": "execute_result"
    }
   ],
   "source": [
    "EP._selected_summary(cfg)"
   ]
  },
  {
   "cell_type": "code",
   "execution_count": 47,
   "id": "c0b6ad1c-1072-46e5-9182-8a8e2331d990",
   "metadata": {},
   "outputs": [
    {
     "data": {
      "text/plain": [
       "{'id': 'dummy_exp',\n",
       " 'stable_hash': '3ced88d3',\n",
       " 'created_at': '2025-10-02T11:07:31.427875',\n",
       " 'description': 'Trainings of GASP [REF] using the discrete graph diffusion method.\\n',\n",
       " 'profile': {'keep_keys': ['denoiser.', 'data.name', 'data.batch_size'],\n",
       "  'id_mode': 'sequential',\n",
       "  'hash_length': 8,\n",
       "  'tags': ['gasp-diff', 'QM9', 'small'],\n",
       "  'extra_files': ['logs/*.log', 'best*.txt']},\n",
       " 'selected_fields': {'data.name': 'qm9', 'data.batch_size': 1024},\n",
       " 'files': {'checkpoints': ['/Users/laurentvidal/Programs/deep_learning/expman/dummy_exp/checkpoints/epoch=364-loss_validation=1.32.ckpt',\n",
       "   '/Users/laurentvidal/Programs/deep_learning/expman/dummy_exp/checkpoints/epoch=394-loss_validation=1.32.ckpt'],\n",
       "  'best': '/Users/laurentvidal/Programs/deep_learning/expman/dummy_exp/checkpoints/epoch=364-loss_validation=1.32.ckpt',\n",
       "  'wandb': '/Users/laurentvidal/Programs/deep_learning/expman/dummy_exp/wandb'},\n",
       " 'meta': {'user': 'laurentvidal',\n",
       "  'host': 'MacBook-Pro-de-Laurent.local',\n",
       "  'cwd': '/Users/laurentvidal/Programs/deep_learning/expman/notebooks',\n",
       "  'git_commit': None,\n",
       "  'python_version': '3.12.9',\n",
       "  'torch_version': None,\n",
       "  'lightning_version': None,\n",
       "  'wandb_version': None}}"
      ]
     },
     "execution_count": 47,
     "metadata": {},
     "output_type": "execute_result"
    }
   ],
   "source": [
    "exp_root = Path(PROJECT_ROOT / \"exp_root\")\n",
    "EP.create_id_card(cfg, exp_root, exp_dir, copy_config_file=True, update_after=True)"
   ]
  },
  {
   "cell_type": "code",
   "execution_count": 53,
   "id": "856693ee-6449-4956-b5d2-1da9297c60a4",
   "metadata": {},
   "outputs": [],
   "source": [
    "exp_root =  Path(PROJECT_ROOT / \"exp_root\").expanduser()"
   ]
  },
  {
   "cell_type": "code",
   "execution_count": 54,
   "id": "7ec4c864-6f15-46e9-8df7-4b84cb03b4b1",
   "metadata": {},
   "outputs": [
    {
     "data": {
      "text/plain": [
       "PosixPath('/Users/laurentvidal/Programs/deep_learning/expman/exp_root')"
      ]
     },
     "execution_count": 54,
     "metadata": {},
     "output_type": "execute_result"
    }
   ],
   "source": [
    "exp_root"
   ]
  },
  {
   "cell_type": "code",
   "execution_count": null,
   "id": "fcf2d255-270e-49b1-b8a5-9a994d532baa",
   "metadata": {},
   "outputs": [],
   "source": []
  }
 ],
 "metadata": {
  "kernelspec": {
   "display_name": "Python 3 (ipykernel)",
   "language": "python",
   "name": "python3"
  },
  "language_info": {
   "codemirror_mode": {
    "name": "ipython",
    "version": 3
   },
   "file_extension": ".py",
   "mimetype": "text/x-python",
   "name": "python",
   "nbconvert_exporter": "python",
   "pygments_lexer": "ipython3",
   "version": "3.12.9"
  }
 },
 "nbformat": 4,
 "nbformat_minor": 5
}
